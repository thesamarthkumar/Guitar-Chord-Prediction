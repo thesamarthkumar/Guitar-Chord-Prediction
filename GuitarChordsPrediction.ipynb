{
  "cells": [
    {
      "cell_type": "markdown",
      "metadata": {
        "id": "ZmhCgbixfRw1"
      },
      "source": [
        "# Guitar Chord Prediction via Multilayer Perceptron\n",
        "---\n",
        "#### Samarth Kumar\n"
      ]
    },
    {
      "cell_type": "markdown",
      "metadata": {
        "id": "vzj54GcYfwHK"
      },
      "source": [
        "Load Dependencies"
      ]
    },
    {
      "cell_type": "code",
      "execution_count": 1,
      "metadata": {
        "id": "yw4rakjmfP2Q"
      },
      "outputs": [],
      "source": [
        "import torch\n",
        "import torch.nn as nn\n",
        "from torch.utils.data import DataLoader, TensorDataset\n",
        "import numpy as np\n",
        "import pandas as pd\n",
        "from sklearn.model_selection import train_test_split\n",
        "from sklearn.preprocessing import LabelEncoder\n",
        "from sklearn.metrics import accuracy_score, classification_report\n",
        "from sklearn.metrics import confusion_matrix, ConfusionMatrixDisplay\n",
        "\n",
        "# NdLinear\n",
        "from ndlinear import NdLinear"
      ]
    },
    {
      "cell_type": "markdown",
      "metadata": {
        "id": "tFxvfhcdgZB1"
      },
      "source": [
        "### Data Loading and Preprocessing"
      ]
    },
    {
      "cell_type": "markdown",
      "metadata": {},
      "source": [
        "The dataset is small (contains 2632 samples, and 5 features).\n",
        "\n",
        "For simplicity, the models will predict the CHORD_ROOT rather than CHORD_TYPE.\n",
        "\n",
        "Link to the Dataset from UC Irvine Machine Learning Repository: [Guitar Chords Finger Positions](https://archive.ics.uci.edu/dataset/575/guitar+chords+finger+positions)"
      ]
    },
    {
      "cell_type": "code",
      "execution_count": 2,
      "metadata": {
        "colab": {
          "base_uri": "https://localhost:8080/",
          "height": 206
        },
        "id": "rD_C0ybEhH-5",
        "outputId": "e3a3f592-c328-42bb-8fc8-c826a2af54e5"
      },
      "outputs": [
        {
          "data": {
            "text/html": [
              "<div>\n",
              "<style scoped>\n",
              "    .dataframe tbody tr th:only-of-type {\n",
              "        vertical-align: middle;\n",
              "    }\n",
              "\n",
              "    .dataframe tbody tr th {\n",
              "        vertical-align: top;\n",
              "    }\n",
              "\n",
              "    .dataframe thead th {\n",
              "        text-align: right;\n",
              "    }\n",
              "</style>\n",
              "<table border=\"1\" class=\"dataframe\">\n",
              "  <thead>\n",
              "    <tr style=\"text-align: right;\">\n",
              "      <th></th>\n",
              "      <th>CHORD_ROOT</th>\n",
              "      <th>CHORD_TYPE</th>\n",
              "      <th>CHORD_STRUCTURE</th>\n",
              "      <th>FINGER_POSITIONS</th>\n",
              "      <th>NOTE_NAMES</th>\n",
              "    </tr>\n",
              "  </thead>\n",
              "  <tbody>\n",
              "    <tr>\n",
              "      <th>0</th>\n",
              "      <td>A#</td>\n",
              "      <td>13</td>\n",
              "      <td>1;3;5;b7;9;11;13</td>\n",
              "      <td>x,1,0,2,3,4</td>\n",
              "      <td>A#,C##,G#,B#,F##</td>\n",
              "    </tr>\n",
              "    <tr>\n",
              "      <th>1</th>\n",
              "      <td>A#</td>\n",
              "      <td>13</td>\n",
              "      <td>1;3;5;b7;9;11;13</td>\n",
              "      <td>4,x,3,2,1,1</td>\n",
              "      <td>A#,G#,B#,C##,F##</td>\n",
              "    </tr>\n",
              "    <tr>\n",
              "      <th>2</th>\n",
              "      <td>A#</td>\n",
              "      <td>13</td>\n",
              "      <td>1;3;5;b7;9;11;13</td>\n",
              "      <td>1,x,1,2,3,4</td>\n",
              "      <td>A#,G#,C##,F##,B#</td>\n",
              "    </tr>\n",
              "    <tr>\n",
              "      <th>3</th>\n",
              "      <td>A#</td>\n",
              "      <td>7(#9)</td>\n",
              "      <td>1;3;5;b7;#9</td>\n",
              "      <td>x,1,0,2,4,3</td>\n",
              "      <td>A#,C##,G#,B##,E#</td>\n",
              "    </tr>\n",
              "    <tr>\n",
              "      <th>4</th>\n",
              "      <td>A#</td>\n",
              "      <td>7(#9)</td>\n",
              "      <td>1;3;5;b7;#9</td>\n",
              "      <td>2,1,3,3,3,x</td>\n",
              "      <td>A#,C##,G#,B##,E#</td>\n",
              "    </tr>\n",
              "  </tbody>\n",
              "</table>\n",
              "</div>"
            ],
            "text/plain": [
              "  CHORD_ROOT CHORD_TYPE   CHORD_STRUCTURE FINGER_POSITIONS        NOTE_NAMES\n",
              "0         A#         13  1;3;5;b7;9;11;13      x,1,0,2,3,4  A#,C##,G#,B#,F##\n",
              "1         A#         13  1;3;5;b7;9;11;13      4,x,3,2,1,1  A#,G#,B#,C##,F##\n",
              "2         A#         13  1;3;5;b7;9;11;13      1,x,1,2,3,4  A#,G#,C##,F##,B#\n",
              "3         A#      7(#9)       1;3;5;b7;#9      x,1,0,2,4,3  A#,C##,G#,B##,E#\n",
              "4         A#      7(#9)       1;3;5;b7;#9      2,1,3,3,3,x  A#,C##,G#,B##,E#"
            ]
          },
          "execution_count": 2,
          "metadata": {},
          "output_type": "execute_result"
        }
      ],
      "source": [
        "df = pd.read_csv(\"chord-fingers.csv\", sep=\";\")\n",
        "df.head()"
      ]
    },
    {
      "cell_type": "markdown",
      "metadata": {
        "id": "V7xJHQEFhT02"
      },
      "source": [
        "Preprocessing: Primarily using Label Encoding since all of the features are discrete."
      ]
    },
    {
      "cell_type": "code",
      "execution_count": 3,
      "metadata": {
        "id": "taq-auDlhY9T"
      },
      "outputs": [],
      "source": [
        "# Avoiding repition of the same chord. For example, Db and C# are the same chord.\n",
        "df[\"CHORD_ROOT\"] = df[\"CHORD_ROOT\"].replace(\"Cb\", \"B\")\n",
        "df[\"CHORD_ROOT\"] = df[\"CHORD_ROOT\"].replace(\"A#\", \"Bb\")\n",
        "df[\"CHORD_ROOT\"] = df[\"CHORD_ROOT\"].replace(\"Db\", \"C#\")\n",
        "df[\"CHORD_ROOT\"] = df[\"CHORD_ROOT\"].replace(\"Ab\", \"G#\")\n",
        "df[\"CHORD_ROOT\"] = df[\"CHORD_ROOT\"].replace(\"D#\", \"Eb\")\n",
        "df[\"CHORD_ROOT\"] = df[\"CHORD_ROOT\"].replace(\"Gb\", \"F#\")\n",
        "\n",
        "rootEncoder = LabelEncoder()\n",
        "xRoot = rootEncoder.fit_transform(df[\"CHORD_ROOT\"])\n",
        "\n",
        "# Examples: 7, dim7, aug, maj, min, etc.\n",
        "structureEncoder = LabelEncoder()\n",
        "xStruct = structureEncoder.fit_transform(df[\"CHORD_STRUCTURE\"])\n",
        "\n",
        "# Finger Positions, index finger = 1, middle finger = 2, ring finger = 3, pinky = 4, thumb = 5.\n",
        "# x = no finger (replacing with -1 so that numerical values are used for each finger)\n",
        "# The finger positions list the order of the fingers and the strings they are on.\n",
        "# Example: \"x,1,0,2,3,4\"\n",
        "xFingers = (\n",
        "    df[\"FINGER_POSITIONS\"]\n",
        "    .str.split(\",\", expand=True)\n",
        "    .replace(\"x\", -1)\n",
        "    .astype(float)\n",
        "    .values\n",
        ")\n",
        "\n",
        "# Separate features and target.\n",
        "targetEncoder = LabelEncoder()\n",
        "X = np.hstack([xRoot.reshape(-1,1), xStruct.reshape(-1,1), xFingers])\n",
        "y = targetEncoder.fit_transform(df[\"CHORD_ROOT\"])"
      ]
    },
    {
      "cell_type": "markdown",
      "metadata": {},
      "source": [
        "When you notice above, I chose to ignore NOTE_NAMES due to redundancy. This feature essentially duplicates info from the CHORD_STRUCTURE and would add further complexity to the models, which may not be necessary."
      ]
    },
    {
      "cell_type": "markdown",
      "metadata": {},
      "source": [
        "The goal is to predict the chord roots based on the structure, finger positions (string and fret), and the names of the notes."
      ]
    },
    {
      "cell_type": "code",
      "execution_count": 4,
      "metadata": {},
      "outputs": [
        {
          "name": "stdout",
          "output_type": "stream",
          "text": [
            "Chords to Predict:  ['Bb' 'C#' 'Eb' 'F#' 'G#' 'B' 'A' 'C' 'D' 'E' 'F' 'G']\n"
          ]
        }
      ],
      "source": [
        "print(\"Chords to Predict: \", df[\"CHORD_ROOT\"].unique())"
      ]
    },
    {
      "cell_type": "markdown",
      "metadata": {
        "id": "tEBA82AbikKj"
      },
      "source": [
        "Split train/test data."
      ]
    },
    {
      "cell_type": "code",
      "execution_count": 5,
      "metadata": {},
      "outputs": [],
      "source": [
        "xTrain, xTest, yTrain, yTest = train_test_split(X, y, test_size=0.2, random_state=42)"
      ]
    },
    {
      "cell_type": "code",
      "execution_count": 6,
      "metadata": {},
      "outputs": [
        {
          "data": {
            "text/plain": [
              "((2105, 8), (527, 8), (2105,), (527,))"
            ]
          },
          "execution_count": 6,
          "metadata": {},
          "output_type": "execute_result"
        }
      ],
      "source": [
        "xTrain.shape, xTest.shape, yTrain.shape, yTest.shape"
      ]
    },
    {
      "cell_type": "markdown",
      "metadata": {},
      "source": [
        "Convert the data to tensors."
      ]
    },
    {
      "cell_type": "code",
      "execution_count": 7,
      "metadata": {
        "id": "Zy0m8O-NineD"
      },
      "outputs": [],
      "source": [
        "xTrainTensor = torch.tensor(xTrain, dtype=torch.float32)\n",
        "yTrainTensor = torch.tensor(yTrain, dtype=torch.long)\n",
        "xTestTensor = torch.tensor(xTest, dtype=torch.float32)\n",
        "yTestTensor = torch.tensor(yTest, dtype=torch.long)"
      ]
    },
    {
      "cell_type": "markdown",
      "metadata": {},
      "source": [
        "Use DataLoader to prepare the tensors for model fitting."
      ]
    },
    {
      "cell_type": "code",
      "execution_count": 8,
      "metadata": {},
      "outputs": [],
      "source": [
        "# Batch Size = 64\n",
        "g = torch.Generator().manual_seed(42)\n",
        "trainDataset = DataLoader(TensorDataset(xTrainTensor, yTrainTensor), batch_size=64, shuffle=True, generator=g)\n",
        "testDataset = DataLoader(TensorDataset(xTestTensor, yTestTensor), batch_size=64, generator=g)"
      ]
    },
    {
      "cell_type": "markdown",
      "metadata": {
        "id": "0r20If5RjGfO"
      },
      "source": [
        "### Define the Multilayer Perceptron Models"
      ]
    },
    {
      "cell_type": "markdown",
      "metadata": {
        "id": "ABl7gs_2jLVl"
      },
      "source": [
        "Baseline Model, using nn.Linear"
      ]
    },
    {
      "cell_type": "code",
      "execution_count": 9,
      "metadata": {
        "id": "97fTSxI0jM9b"
      },
      "outputs": [],
      "source": [
        "class BaselineClassifier(nn.Module):\n",
        "    def __init__(self, input_dim, output_dim):\n",
        "        super().__init__()\n",
        "        self.model = nn.Sequential(\n",
        "            nn.Linear(input_dim, 64),\n",
        "            nn.ReLU(),\n",
        "            nn.Linear(64, 128),\n",
        "            nn.ReLU(),\n",
        "            nn.Linear(128, output_dim)\n",
        "        )\n",
        "\n",
        "    def forward(self, x):\n",
        "        return self.model(x)"
      ]
    },
    {
      "cell_type": "markdown",
      "metadata": {
        "id": "VtKpvP01jPfG"
      },
      "source": [
        "Modified model, with NdLinear"
      ]
    },
    {
      "cell_type": "code",
      "execution_count": 10,
      "metadata": {
        "id": "mqZdfxFzjRYO"
      },
      "outputs": [],
      "source": [
        "class NdLinearClassifier(nn.Module):\n",
        "    def __init__(self, input_dim, output_dim):\n",
        "        super().__init__()\n",
        "        self.model = nn.Sequential(\n",
        "            NdLinear((input_dim,), (64,)),\n",
        "            nn.ReLU(),\n",
        "            NdLinear((64,), (128,)),\n",
        "            nn.ReLU(),\n",
        "            NdLinear((128,), (output_dim,))\n",
        "        )\n",
        "\n",
        "    def forward(self, x):\n",
        "        return self.model(x)"
      ]
    },
    {
      "cell_type": "markdown",
      "metadata": {},
      "source": [
        "Both of these models follow the same overall structure of the feed-forward neural network. They start with 8 neurons in the input layer, 64 neurons in the first hidden layer, 128 neurons in the second hidden layer, and 12 neurons in the output layer since there are 12 labels to predict. I also chose to use ReLU activations for faster computation and better generalization."
      ]
    },
    {
      "cell_type": "markdown",
      "metadata": {
        "id": "WhSzZnMIjTRJ"
      },
      "source": [
        "Function to train the model."
      ]
    },
    {
      "cell_type": "code",
      "execution_count": 11,
      "metadata": {
        "id": "sz7mMboKjVnG"
      },
      "outputs": [],
      "source": [
        "def train(model, train_loader, criterion, optimizer):\n",
        "    model.train()\n",
        "    for X_batch, y_batch in train_loader:\n",
        "        optimizer.zero_grad()\n",
        "        output = model(X_batch)\n",
        "        loss = criterion(output, y_batch)\n",
        "        loss.backward()\n",
        "        optimizer.step()"
      ]
    },
    {
      "cell_type": "markdown",
      "metadata": {
        "id": "S0xkXVOojXPQ"
      },
      "source": [
        "Function to evaluate the model and display the results (accuracy, confusion matrix, classification report)"
      ]
    },
    {
      "cell_type": "code",
      "execution_count": 12,
      "metadata": {
        "id": "7DbKqkC7jYMK"
      },
      "outputs": [],
      "source": [
        "def evaluate(model, test_loader, label_encoder):\n",
        "    model.eval()\n",
        "    all_preds, all_labels = [], []\n",
        "    \n",
        "    with torch.no_grad():\n",
        "        for X_batch, y_batch in test_loader:\n",
        "            output = model(X_batch)\n",
        "            preds = torch.argmax(output, dim=1)\n",
        "            all_preds.extend(preds.tolist())\n",
        "            all_labels.extend(y_batch.tolist())\n",
        "\n",
        "    # Print classification metrics\n",
        "    acc = accuracy_score(all_labels, all_preds)\n",
        "    report = classification_report(all_labels, all_preds, zero_division=0)\n",
        "    cm = confusion_matrix(all_labels, all_preds)\n",
        "\n",
        "    print(\"Accuracy:\", acc)\n",
        "    print(\"Classification Report:\\n\", report)\n",
        "    print(\"Confusion Matrix:\\n\")\n",
        "    ConfusionMatrixDisplay(cm, display_labels=label_encoder.classes_).plot()\n",
        "\n",
        "    return acc, report, cm\n"
      ]
    },
    {
      "cell_type": "markdown",
      "metadata": {
        "id": "2d9Agnm0jas5"
      },
      "source": [
        "Run the training and evaluation on both models."
      ]
    },
    {
      "cell_type": "code",
      "execution_count": 13,
      "metadata": {
        "colab": {
          "base_uri": "https://localhost:8080/"
        },
        "id": "ZgBofmZvjeAD",
        "outputId": "c365ca58-51bf-4638-95b7-9c4a7e78dbf1"
      },
      "outputs": [],
      "source": [
        "# Learning Rate = 0.001\n",
        "# Number of Epochs = 50\n",
        "\n",
        "# Baseline Model (nn.Linear)\n",
        "model_linear = BaselineClassifier(xTrain.shape[1], len(np.unique(y)))\n",
        "optimizer_linear = torch.optim.Adam(model_linear.parameters(), lr=0.001)\n",
        "criterion = nn.CrossEntropyLoss()\n",
        "\n",
        "# NdLinear model\n",
        "model_ndlinear = NdLinearClassifier(xTrain.shape[1], len(np.unique(y)))\n",
        "optimizer_nd = torch.optim.Adam(model_ndlinear.parameters(), lr=0.001)\n",
        "\n",
        "# Training loop.\n",
        "for epoch in range(50):\n",
        "    train(model_linear, trainDataset, criterion, optimizer_linear)\n",
        "    train(model_ndlinear, trainDataset, criterion, optimizer_nd)"
      ]
    },
    {
      "cell_type": "markdown",
      "metadata": {},
      "source": [
        "### Model Evaluation"
      ]
    },
    {
      "cell_type": "code",
      "execution_count": 14,
      "metadata": {},
      "outputs": [
        {
          "name": "stdout",
          "output_type": "stream",
          "text": [
            "------ Baseline Model Results ------\n",
            "Accuracy: 0.9127134724857685\n",
            "Classification Report:\n",
            "               precision    recall  f1-score   support\n",
            "\n",
            "           0       1.00      1.00      1.00        44\n",
            "           1       1.00      1.00      1.00        31\n",
            "           2       1.00      1.00      1.00        51\n",
            "           3       1.00      0.97      0.99        36\n",
            "           4       0.98      1.00      0.99        47\n",
            "           5       0.96      1.00      0.98        44\n",
            "           6       0.93      0.89      0.91        45\n",
            "           7       0.95      0.84      0.89        49\n",
            "           8       0.79      0.97      0.87        38\n",
            "           9       0.73      0.90      0.81        40\n",
            "          10       0.81      0.59      0.68        49\n",
            "          11       0.85      0.87      0.86        53\n",
            "\n",
            "    accuracy                           0.91       527\n",
            "   macro avg       0.92      0.92      0.91       527\n",
            "weighted avg       0.92      0.91      0.91       527\n",
            "\n",
            "Confusion Matrix:\n",
            "\n"
          ]
        },
        {
          "data": {
            "image/png": "[encoded data removed]",
            "text/plain": [
              "<Figure size 640x480 with 2 Axes>"
            ]
          },
          "metadata": {},
          "output_type": "display_data"
        }
      ],
      "source": [
        "print('------ Baseline Model Results ------')\n",
        "acc1, report1, cm1 = evaluate(model_linear, testDataset, targetEncoder)"
      ]
    },
    {
      "cell_type": "code",
      "execution_count": 15,
      "metadata": {},
      "outputs": [
        {
          "name": "stdout",
          "output_type": "stream",
          "text": [
            "------ NdLinear Model Results ------\n",
            "Accuracy: 0.952561669829222\n",
            "Classification Report:\n",
            "               precision    recall  f1-score   support\n",
            "\n",
            "           0       1.00      1.00      1.00        44\n",
            "           1       1.00      1.00      1.00        31\n",
            "           2       1.00      1.00      1.00        51\n",
            "           3       1.00      1.00      1.00        36\n",
            "           4       1.00      0.96      0.98        47\n",
            "           5       0.92      1.00      0.96        44\n",
            "           6       1.00      0.87      0.93        45\n",
            "           7       0.92      1.00      0.96        49\n",
            "           8       1.00      0.95      0.97        38\n",
            "           9       0.85      1.00      0.92        40\n",
            "          10       0.85      0.84      0.85        49\n",
            "          11       0.94      0.87      0.90        53\n",
            "\n",
            "    accuracy                           0.95       527\n",
            "   macro avg       0.96      0.96      0.96       527\n",
            "weighted avg       0.96      0.95      0.95       527\n",
            "\n",
            "Confusion Matrix:\n",
            "\n"
          ]
        },
        {
          "data": {
            "image/png": "[encoded data removed]",
            "text/plain": [
              "<Figure size 640x480 with 2 Axes>"
            ]
          },
          "metadata": {},
          "output_type": "display_data"
        }
      ],
      "source": [
        "print('------ NdLinear Model Results ------')\n",
        "acc2, report2, cm2 = evaluate(model_ndlinear, testDataset, targetEncoder)"
      ]
    },
    {
      "cell_type": "markdown",
      "metadata": {},
      "source": [
        "### Results"
      ]
    },
    {
      "cell_type": "markdown",
      "metadata": {},
      "source": [
        "Model Accuracies\n",
        "* nn.Linear: 91.27%\n",
        "* NdLinear: 95.26%"
      ]
    },
    {
      "cell_type": "markdown",
      "metadata": {},
      "source": [
        "The above results show that replacing the nn.Linear layers with NdLinear improved the predictive performance (4% increase in accuracy).\n",
        "\n",
        "When initially training, there was an issue due to a single instance of 'Cb' chord being present that the models failed to predict on each attempt. Given that 'Cb' is an uncommonly written equivalent to 'B', I simply swapped the target variable for every instance of 'Cb' to 'B'. \n",
        "\n",
        "Then I remembered that I needed to apply this to the remaining overlapping chords with enharmonic equivalents (C# vs. Db, A# vs. Bb, etc.). This allowed me to reduce the number of labels from 17 to 12. Keeping the original labels would have harmed overall performance. For example, the precision, recall, and accuracy for 'A#' would be significantly higher than those for 'Bb' despite being the same chords.\n"
      ]
    }
  ],
  "metadata": {
    "colab": {
      "provenance": []
    },
    "kernelspec": {
      "display_name": "base",
      "language": "python",
      "name": "python3"
    },
    "language_info": {
      "codemirror_mode": {
        "name": "ipython",
        "version": 3
      },
      "file_extension": ".py",
      "mimetype": "text/x-python",
      "name": "python",
      "nbconvert_exporter": "python",
      "pygments_lexer": "ipython3",
      "version": "3.11.4"
    }
  },
  "nbformat": 4,
  "nbformat_minor": 0
}
