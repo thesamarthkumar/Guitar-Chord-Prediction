
{
 "cells": [
  {
   "cell_type": "markdown",
   "metadata": {},
   "source": [
    "# MLP Comparison: nn.Linear vs NdLinear\n",
    "Classification of Guitar Chords from Finger Position Data"
   ]
  },
  {
   "cell_type": "code",
   "execution_count": null,
   "metadata": {},
   "outputs": [],
   "source": [
    "# === Setup ===\n",
    "import pandas as pd\n",
    "import numpy as np\n",
    "import torch\n",
    "from sklearn.preprocessing import LabelEncoder\n",
    "from sklearn.model_selection import train_test_split\n",
    "from torch.utils.data import TensorDataset, DataLoader\n",
    "from sklearn.metrics import classification_report\n",
    "from torch import nn\n",
    "from NdLinear import NdLinear  # Ensure this matches your file path"
   ]
  },
  {
   "cell_type": "code",
   "execution_count": null,
   "metadata": {},
   "outputs": [],
   "source": [
    "# === Load and Preprocess Dataset ===\n",
    "df = pd.read_csv("chord-fingers.csv", sep=";")\n",
    "root_encoder = LabelEncoder()\n",
    "structure_encoder = LabelEncoder()\n",
    "target_encoder = LabelEncoder()\n",
    "X_root = root_encoder.fit_transform(df["CHORD_ROOT"])\n",
    "X_struct = structure_encoder.fit_transform(df["CHORD_STRUCTURE"])\n",
    "X_fingers = df["FINGER_POSITIONS"].str.split(",", expand=True).astype(float).values\n",
    "X = np.hstack([X_root.reshape(-1, 1), X_struct.reshape(-1, 1), X_fingers])\n",
    "y = target_encoder.fit_transform(df["CHORD_TYPE"])\n",
    "X_train, X_test, y_train, y_test = train_test_split(X, y, stratify=y, test_size=0.2, random_state=42)\n",
    "X_train_tensor = torch.tensor(X_train, dtype=torch.float32)\n",
    "X_test_tensor = torch.tensor(X_test, dtype=torch.float32)\n",
    "y_train_tensor = torch.tensor(y_train, dtype=torch.long)\n",
    "y_test_tensor = torch.tensor(y_test, dtype=torch.long)\n",
    "train_loader = DataLoader(TensorDataset(X_train_tensor, y_train_tensor), batch_size=64, shuffle=True)\n",
    "test_loader = DataLoader(TensorDataset(X_test_tensor, y_test_tensor), batch_size=64)"
   ]
  },
  {
   "cell_type": "code",
   "execution_count": null,
   "metadata": {},
   "outputs": [],
   "source": [
    "# === Models ===\n",
    "class MLP_Linear(nn.Module):\n",
    "    def __init__(self, input_dim, output_dim):\n",
    "        super().__init__()\n",
    "        self.model = nn.Sequential(\n",
    "            nn.Linear(input_dim, 64),\n",
    "            nn.ReLU(),\n",
    "            nn.Linear(64, 128),\n",
    "            nn.ReLU(),\n",
    "            nn.Linear(128, output_dim)\n",
    "        )\n",
    "    def forward(self, x):\n",
    "        return self.model(x)\n",
    "\n",
    "class MLP_NdLinear(nn.Module):\n",
    "    def __init__(self, input_dim, output_dim):\n",
    "        super().__init__()\n",
    "        self.model = nn.Sequential(\n",
    "            NdLinear(input_dim, 64),\n",
    "            nn.ReLU(),\n",
    "            NdLinear(64, 128),\n",
    "            nn.ReLU(),\n",
    "            NdLinear(128, output_dim)\n",
    "        )\n",
    "    def forward(self, x):\n",
    "        return self.model(x)"
   ]
  },
  {
   "cell_type": "code",
   "execution_count": null,
   "metadata": {},
   "outputs": [],
   "source": [
    "# === Training and Evaluation ===\n",
    "def train(model, loader, criterion, optimizer):\n",
    "    model.train()\n",
    "    for X_batch, y_batch in loader:\n",
    "        optimizer.zero_grad()\n",
    "        output = model(X_batch)\n",
    "        loss = criterion(output, y_batch)\n",
    "        loss.backward()\n",
    "        optimizer.step()\n",
    "\n",
    "def evaluate(model, loader):\n",
    "    model.eval()\n",
    "    all_preds, all_labels = [], []\n",
    "    with torch.no_grad():\n",
    "        for X_batch, y_batch in loader:\n",
    "            output = model(X_batch)\n",
    "            preds = torch.argmax(output, dim=1)\n",
    "            all_preds.extend(preds.tolist())\n",
    "            all_labels.extend(y_batch.tolist())\n",
    "    print(classification_report(all_labels, all_preds))"
   ]
  },
  {
   "cell_type": "code",
   "execution_count": null,
   "metadata": {},
   "outputs": [],
   "source": [
    "# === Execute Training ===\n",
    "input_dim = X_train.shape[1]\n",
    "output_dim = len(np.unique(y))\n",
    "model_linear = MLP_Linear(input_dim, output_dim)\n",
    "model_nd = MLP_NdLinear(input_dim, output_dim)\n",
    "optimizer_linear = torch.optim.Adam(model_linear.parameters(), lr=0.001)\n",
    "optimizer_nd = torch.optim.Adam(model_nd.parameters(), lr=0.001)\n",
    "criterion = nn.CrossEntropyLoss()\n",
    "for epoch in range(10):\n",
    "    train(model_linear, train_loader, criterion, optimizer_linear)\n",
    "    train(model_nd, train_loader, criterion, optimizer_nd)\n",
    "print("\n--- nn.Linear Performance ---")\n",
    "evaluate(model_linear, test_loader)\n",
    "print("\n--- NdLinear Performance ---")\n",
    "evaluate(model_nd, test_loader)"
   ]
  }
 ],
 "metadata": {
  "kernelspec": {
   "display_name": "Python 3",
   "language": "python",
   "name": "python3"
  },
  "language_info": {
   "name": "python",
   "version": ""
  }
 },
 "nbformat": 4,
 "nbformat_minor": 2
}
